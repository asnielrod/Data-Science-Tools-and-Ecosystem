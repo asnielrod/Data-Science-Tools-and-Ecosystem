{
 "cells": [
  {
   "cell_type": "markdown",
   "metadata": {},
   "source": [
    "<center>\n",
    "    <img src=\"https://cf-courses-data.s3.us.cloud-object-storage.appdomain.cloud/IBMDeveloperSkillsNetwork-DS0105EN-SkillsNetwork/labs/Module2/images/SN_web_lightmode.png\" width=\"300\" alt=\"cognitiveclass.ai logo\">\n",
    "</center>\n"
   ]
  },
  {
   "cell_type": "markdown",
   "metadata": {},
   "source": [
    "#### Add your code below following the instructions given in the course\n"
   ]
  },
  {
   "cell_type": "markdown",
   "metadata": {},
   "source": [
    "# Data Science Tools and Ecosystem"
   ]
  },
  {
   "cell_type": "markdown",
   "metadata": {},
   "source": [
    "In this notebook, Data Science Tools and Ecosystem are summarized."
   ]
  },
  {
   "cell_type": "markdown",
   "metadata": {},
   "source": [
    "Some of the popular languages that Data Scientists use are:\n",
    "ordered_list = [\"Python\", \"R\", \"SQL\", \"SAS\", \"Java\", \"Scala\", \"Julia\", \"MATLAB\"]\n"
   ]
  },
  {
   "cell_type": "markdown",
   "metadata": {},
   "source": [
    "Some of the commonly used libraries used by Data Scientists include:\n",
    "libraries = [\"NumPy\", \"Pandas\", \"Matplotlib\", Scikit-Learn\", \"Tensorflow\", \"PyTorch\", \"Keras\"]\n"
   ]
  },
  {
   "cell_type": "markdown",
   "metadata": {},
   "source": [
    "| Data Science Tools | Description |\n",
    "| --- | --- |\n",
    "| Python | A popular programming language for data science, with a wide range of libraries for data manipulation, analysis, and visualization. |\n",
    "| R | A programming language and environment for statistical computing and graphics, commonly used in academia and research. |\n",
    "| SQL | A language for managing and querying structured data in relational databases. |\n",
    "| Pandas | A Python library for data manipulation and analysis, particularly useful for working with tabular data. |\n",
    "| NumPy | A Python library for numerical computing, with tools for array manipulation, mathematical functions, and linear algebra. |\n",
    "| Matplotlib | A Python library for data visualization, particularly useful for creating plots and charts. |\n",
    "| Scikit-learn | A Python library for machine learning, with tools for data preprocessing, model selection, and evaluation. |\n",
    "| TensorFlow | An open-source machine learning framework developed by Google, with tools for building and training deep neural networks. |\n",
    "| PyTorch | An open-source machine learning library developed by Facebook, with tools for building and training neural networks. |\n",
    "| Jupyter Notebook | A web-based interactive environment for creating and sharing documents that contain live code, equations, visualizations, and narrative text. |\n"
   ]
  },
  {
   "cell_type": "markdown",
   "metadata": {},
   "source": [
    "### Below are a few examples of evaluating arithmetic expressions in Python"
   ]
  },
  {
   "cell_type": "code",
   "execution_count": 2,
   "metadata": {},
   "outputs": [
    {
     "data": {
      "text/plain": [
       "17"
      ]
     },
     "execution_count": 2,
     "metadata": {},
     "output_type": "execute_result"
    }
   ],
   "source": [
    "#This a simple arithmetic expression to mutiply then add integers\n",
    "(3*4)+5"
   ]
  },
  {
   "cell_type": "code",
   "execution_count": 3,
   "metadata": {},
   "outputs": [
    {
     "name": "stdout",
     "output_type": "stream",
     "text": [
      "3.3333333333333335\n"
     ]
    }
   ],
   "source": [
    "#This will convert 200 minutes to hours by diving by 60\n",
    "minutes = 200\n",
    "ours = minutes/60\n",
    "print(ours)"
   ]
  },
  {
   "cell_type": "markdown",
   "metadata": {},
   "source": [
    "**Objectives:**\n",
    "- List popular languages for Data Science\n",
    "  - Python\n",
    "  - R\n",
    "  - SQL\n",
    "  - Java\n",
    "- List popular libraries for Data Science\n",
    "  - NumPy\n",
    "  - Pandas\n",
    "  - Matplotlib\n",
    "  - Seaborn\n",
    "- List popular tools for Data Science\n",
    "  - Jupyter Notebook\n",
    "  - Git\n",
    "  - Docker\n",
    "  - Tableau\n"
   ]
  },
  {
   "cell_type": "markdown",
   "metadata": {},
   "source": [
    "## Author \n",
    "Asniel\n",
    "\n"
   ]
  },
  {
   "cell_type": "code",
   "execution_count": null,
   "metadata": {},
   "outputs": [],
   "source": []
  }
 ],
 "metadata": {
  "kernelspec": {
   "display_name": "Python",
   "language": "python",
   "name": "conda-env-python-py"
  },
  "language_info": {
   "codemirror_mode": {
    "name": "ipython",
    "version": 3
   },
   "file_extension": ".py",
   "mimetype": "text/x-python",
   "name": "python",
   "nbconvert_exporter": "python",
   "pygments_lexer": "ipython3",
   "version": "3.7.12"
  }
 },
 "nbformat": 4,
 "nbformat_minor": 4
}
